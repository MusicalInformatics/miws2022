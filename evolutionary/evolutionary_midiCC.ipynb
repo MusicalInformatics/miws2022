{
 "cells": [
  {
   "cell_type": "markdown",
   "id": "20ec196f",
   "metadata": {},
   "source": [
    "# Generating Sound & Music with Genetic Algorithms\n",
    "\n",
    "Genetic Algorithms are a subset of evolutionary computing; biologically inspired optimization with population-based trial and error search. Loosely speaking, a genetic algortihm creates a popultation of entities that can be modified, combined, and evaluated for fitness with respect to an optimization goal. The simplest optimization step works as follows; create a population, check which elements are most fit (best suited to the optimization problem), keep only the most fit, modify and recombine elements to create new element for the next generation, repeat.\n",
    "\n",
    "### The components:\n",
    "- genetic representation\n",
    "- population\n",
    "- genetic operations: mutation and recombination\n",
    "- fitness\n",
    "- selection\n",
    "- sources of randomness\n",
    "\n",
    "### Introduction Example:\n",
    "\n",
    "Genetic algorithms are inspired by natural selection. Here is a simple simulation of natural selection (choose the lab): https://phet.colorado.edu/sims/html/natural-selection/latest/natural-selection_en.html\n",
    "\n",
    "- note all the ways you can change the genetic operations\n",
    "- note all the ways you can change the fitness function"
   ]
  },
  {
   "cell_type": "markdown",
   "id": "35e873b0",
   "metadata": {},
   "source": [
    "## The genetic algorithm in this notebook\n",
    "\n",
    "### The components in the code:\n",
    "\n",
    "- genetic representation: each element is a sound setting consisting of 28 MIDI CC values\n",
    "- population: the population consists of 5 \n",
    "- genetic operations: \n",
    "1) point mutation; randomly change a MIDI CC value\n",
    "2) interpolation; create a interpolation of a CC control from its values of two settings\n",
    "3) recombination; create a mix of CC values of two settings\n",
    "- fitness: human-in-the-loop rating\n",
    "- selection: pick the best sounds and add some new ones\n",
    "- sources of randomness: in the mutation, interpolation and recombination as well as adding random new ones.\n",
    "\n",
    "### Getting to know the code:\n",
    "\n",
    "1. understand the code below and get an overall idea of what the algorithm looks like, maybe draw a flow chart or take some notes.\n",
    "2. play around with the optimization loop while changing the modify function: do you see things that could be changed in the genetic representation? what are they and can you change them?\n",
    "3. write a two step selection; first mutate/modify elements and select the fittest (with some randomness), then recombine them and select the fittest from offspring and parent elements (with some randomness)\n",
    "4. change the modify function, such that some parts of the genetic representation (the chord sequence) can be fixed (made immutable). Create another human input to be able to set which CC controls are immutable from now on. This is the most complex task and probably requires some thinking, creativity, and experimentation. Take your time!"
   ]
  },
  {
   "cell_type": "code",
   "execution_count": 1,
   "id": "35c25129",
   "metadata": {},
   "outputs": [],
   "source": [
    "import partitura as pt\n",
    "import numpy as np\n",
    "import mido\n",
    "import random, string\n",
    "import matplotlib.pyplot as plt\n",
    "import os\n",
    "os.environ['KMP_DUPLICATE_LIB_OK']='True'"
   ]
  },
  {
   "cell_type": "code",
   "execution_count": 2,
   "id": "8fe722d0",
   "metadata": {},
   "outputs": [],
   "source": [
    "def randomword(length):\n",
    "    \"\"\"\n",
    "    a random character generator\n",
    "    \"\"\"\n",
    "    letters = string.ascii_lowercase\n",
    "    return ''.join(random.choice(letters) for i in range(length))"
   ]
  },
  {
   "cell_type": "code",
   "execution_count": 3,
   "id": "adb28507",
   "metadata": {},
   "outputs": [],
   "source": [
    "class SoundSetting:\n",
    "    \"\"\"\n",
    "    the SoundSetting class represents a parametrization of a sound.\n",
    "    \"\"\"\n",
    "    def __init__(self, number = 28):\n",
    "        self.number = number\n",
    "        self.CC = [mido.Message(\"control_change\",\n",
    "                                channel=0,\n",
    "                                control=k, # control number k, can be mapped later as you like\n",
    "                                value=np.random.randint(128) # initialized random midi values\n",
    "                               ) for k in range(number)]\n",
    "        self.id = randomword(10)\n",
    "    \n",
    "    def mutate(self):\n",
    "        cidx = np.random.randint(len(self.CC))\n",
    "        self.CC[cidx].value =np.random.randint(128)\n",
    "    \n",
    "    def interpolate(self, anotherSetting):\n",
    "        cidx = np.random.randint(len(self.CC))\n",
    "        a = self.CC[cidx].value \n",
    "        b = anotherSetting.CC[cidx].value \n",
    "        ab = sorted([a, b])\n",
    "        self.CC[cidx].value = np.random.randint(ab[0], ab[1]+1)\n",
    "    \n",
    "    def join(self, anotherSetting):\n",
    "        #idx to keep\n",
    "        idx = np.unique(np.random.randint(0,self.number,int(self.number/2)))\n",
    "        newSetting = SoundSetting()\n",
    "        newanotherSetting = SoundSetting()\n",
    "        for k in range(self.number):\n",
    "            if k in idx:\n",
    "                newSetting.CC[k] = self.CC[k]\n",
    "                newanotherSetting.CC[k] = anotherSetting.CC[k]\n",
    "            else:\n",
    "                newSetting.CC[k] = anotherSetting.CC[k]\n",
    "                newanotherSetting.CC[k] = self.CC[k]\n",
    "        return newSetting, newanotherSetting"
   ]
  },
  {
   "cell_type": "code",
   "execution_count": 4,
   "id": "dc6509c8",
   "metadata": {},
   "outputs": [],
   "source": [
    "\"\"\"\n",
    "MODIFIERS\n",
    "\"\"\"\n",
    "def modify(population):\n",
    "    \n",
    "    # randomize / mutate some elements\n",
    "    subpop3 = np.random.choice(population, int(len(population)/3))\n",
    "    for element in subpop3:\n",
    "        element.mutate()\n",
    "\n",
    "    # interpolate some elements\n",
    "    subpop1 = np.random.choice(population, int(len(population)/3))\n",
    "    subpop2 = np.random.choice(population, int(len(population)/3))\n",
    "    for element0, element1 in zip(subpop1, subpop2):\n",
    "        element0.interpolate(element1)\n",
    "    \n",
    "    # join some elements\n",
    "    subpop1 = np.random.choice(population, int(len(population)/3))\n",
    "    subpop2 = np.random.choice(population, int(len(population)/3))\n",
    "    for element0, element1 in zip(subpop1, subpop2):\n",
    "        elnew1, elnew2 = element0.join(element1)\n",
    "    \n",
    "        population.append(elnew1)\n",
    "        population.append(elnew2)\n",
    "    \n",
    "    return population"
   ]
  },
  {
   "cell_type": "code",
   "execution_count": 5,
   "id": "f6dd537c",
   "metadata": {},
   "outputs": [],
   "source": [
    "\"\"\"\n",
    "SELECT\n",
    "\"\"\"\n",
    "def fitness(setting, port):\n",
    "    for message in setting.CC:\n",
    "        port.send(message)\n",
    "        # print(\"sending CC msg: \", message)\n",
    "    # the lower the fitness score the better\n",
    "    try:\n",
    "        fit = float(input(\"rate this sound: \"))\n",
    "    except:\n",
    "        fit = 10\n",
    "    # add a small random number for hashing\n",
    "    fit += np.random.rand(1)[0]\n",
    "    return fit \n",
    "\n",
    "def select(population, port, number):\n",
    "    pop = {ele.id:ele for ele in population}\n",
    "    fitness_dict = {fitness(ele, port):ele.id for ele in population}\n",
    "    sorted_fitness = list(fitness_dict.keys())\n",
    "    sorted_fitness.sort()\n",
    "    new_pop = [pop[fitness_dict[k]] for k in sorted_fitness[:number]]\n",
    "    # debug print\n",
    "    # print(len(new_pop), len(sorted_fitness), len(population), fitness_dict)\n",
    "    return new_pop, sorted_fitness"
   ]
  },
  {
   "cell_type": "code",
   "execution_count": 6,
   "id": "373e854a",
   "metadata": {},
   "outputs": [
    {
     "data": {
      "text/plain": [
       "['Microsoft GS Wavetable Synth 0']"
      ]
     },
     "execution_count": 6,
     "metadata": {},
     "output_type": "execute_result"
    }
   ],
   "source": [
    "import mido\n",
    "mido.get_output_names()"
   ]
  },
  {
   "cell_type": "code",
   "execution_count": 10,
   "id": "aafe9a6a",
   "metadata": {},
   "outputs": [],
   "source": [
    "# don't forget to close your port after usage / before reopening\n",
    "# output_port.close()"
   ]
  },
  {
   "cell_type": "code",
   "execution_count": 8,
   "id": "213e1067",
   "metadata": {},
   "outputs": [],
   "source": [
    "# set the port_name to a loopback device to send MIDI to your DAW\n",
    "# on Mac you can use the IAC driver\n",
    "# on Windows you can use this free software: https://www.tobias-erichsen.de/software/loopmidi.html\n",
    "port_name = 'Microsoft GS Wavetable Synth 0'\n",
    "output_port = mido.open_output(port_name)"
   ]
  },
  {
   "cell_type": "code",
   "execution_count": 9,
   "id": "580bc36b",
   "metadata": {},
   "outputs": [
    {
     "name": "stdout",
     "output_type": "stream",
     "text": [
      "number of sounds:  7\n",
      "rate this sound: \n",
      "rate this sound: \n",
      "rate this sound: \n",
      "rate this sound: \n",
      "rate this sound: \n",
      "rate this sound: \n",
      "rate this sound: \n",
      "3 7 7 {10.013661669336022: 'ozkkepzegz', 10.355762935472947: 'kaiajspged', 10.204204333648335: 'laxpkkhtrv', 10.383648266050193: 'bqqixmuqrh', 10.607077455686182: 'fnfuwmwlev', 10.575321171414021: 'xjmgenlnje', 10.572463375445514: 'timfgegttu'}\n",
      "Epoch 0 best fitness: 10.0137\n",
      "number of sounds:  5\n",
      "rate this sound: \n",
      "rate this sound: \n",
      "rate this sound: \n",
      "rate this sound: \n",
      "rate this sound: \n",
      "3 5 5 {10.752976757651746: 'ozkkepzegz', 10.667679448971567: 'laxpkkhtrv', 10.734258960326184: 'kaiajspged', 10.746813200528104: 'rjtzyyirui', 10.148550441244094: 'wbxwccfguj'}\n",
      "Epoch 1 best fitness: 10.1486\n",
      "number of sounds:  5\n",
      "rate this sound: \n",
      "rate this sound: \n",
      "rate this sound: \n",
      "rate this sound: \n",
      "rate this sound: \n",
      "3 5 5 {10.176053363006236: 'wbxwccfguj', 10.549162672417216: 'laxpkkhtrv', 10.679353545316758: 'kaiajspged', 10.75427224739647: 'ryacfouqes', 10.157060472484934: 'ajmofqrpnb'}\n",
      "Epoch 2 best fitness: 10.1571\n"
     ]
    }
   ],
   "source": [
    "\"\"\"\n",
    "LOOP\n",
    "\"\"\"\n",
    "population = [SoundSetting() for po in range(5)]\n",
    "\n",
    "for epoch in range(3): \n",
    "    population = modify(population)\n",
    "    print(\"number of sounds: \", len(population))\n",
    "    population, sorted_fitness = select(population, output_port, 3) \n",
    "    print(f\"Epoch {epoch} best fitness: {sorted_fitness[0]:.4f}\")\n",
    "    # population += [SoundSetting() for po in range(2)] uncomment to add new ones"
   ]
  },
  {
   "cell_type": "code",
   "execution_count": null,
   "id": "c9c60533",
   "metadata": {},
   "outputs": [],
   "source": [
    "# you can use this command to send a single CC message at a specified control number\n",
    "# to learn midi assignments or debug the connection to your DAW / synth\n",
    "\n",
    "output_port.send(mido.Message(\"control_change\",\n",
    "                                channel=0,\n",
    "                                control=27, \n",
    "                                value=10 \n",
    "                               ))"
   ]
  }
 ],
 "metadata": {
  "kernelspec": {
   "display_name": "Python 3 (ipykernel)",
   "language": "python",
   "name": "python3"
  },
  "language_info": {
   "codemirror_mode": {
    "name": "ipython",
    "version": 3
   },
   "file_extension": ".py",
   "mimetype": "text/x-python",
   "name": "python",
   "nbconvert_exporter": "python",
   "pygments_lexer": "ipython3",
   "version": "3.9.12"
  }
 },
 "nbformat": 4,
 "nbformat_minor": 5
}
