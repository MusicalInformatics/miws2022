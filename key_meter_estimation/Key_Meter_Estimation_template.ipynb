{
 "cells": [
  {
   "cell_type": "markdown",
   "id": "b0de0589",
   "metadata": {},
   "source": [
    "# Key and Meter Estimation (100 points in total)\n",
    "\n",
    "This is a template for your report. The report should be written like a blog post and describe what you did for the alignment challenge."
   ]
  },
  {
   "cell_type": "markdown",
   "id": "3eb98e2b",
   "metadata": {},
   "source": [
    "## Key Estimation (50 points)\n",
    "\n",
    "### Problem Description\n",
    "* What is key estimation and tonality?\n",
    "* Why is this an interesting problem in music processing?\n",
    "\n",
    "### Feature Description\n",
    "\n",
    "* Which features did you use?\n",
    "* Which elements of the music do they capture?\n",
    "* Was there any pre-processing of the features?\n",
    "* Anything that you think relevant.\n",
    "* Make sure to include plots and visualizations!\n",
    "\n",
    "### Methods\n",
    "\n",
    "* Which Method(s) did you use? (e.g., HMM, Krumhansl-Schmuckler, etc.)\n",
    "* What is this method supposed to do (conceptually, you don't need to go into an in-depth description of the methods)\n",
    "* What were the hyper-parameters/settings of the method?\n",
    "* Is there any lesson you learned during the challenge\n",
    "\n",
    "### Evaluation and Discussion\n",
    "* Describe the evaluation that you conducted designing the submissions.\n",
    "* Which things worked and which things didn't?\n",
    "* Is there anything interesting insight that you can conclude from the challenge? "
   ]
  },
  {
   "cell_type": "markdown",
   "id": "d1ba25c3",
   "metadata": {},
   "source": [
    "## Meter Estimation (50 points)\n",
    "\n",
    "### Problem Description\n",
    "* What is key estimation and tonality?\n",
    "* Why is this an interesting problem in music processing?\n",
    "\n",
    "### Feature Description\n",
    "\n",
    "* Which features did you use?\n",
    "* Which elements of the music do they capture?\n",
    "* Was there any pre-processing of the features?\n",
    "* Anything that you think relevant.\n",
    "* Make sure to include plots and visualizations!\n",
    "\n",
    "### Methods\n",
    "\n",
    "* Which Method(s) did you use? (e.g., HMM, Krumhansl-Schmuckler, etc.)\n",
    "* What is this method supposed to do (conceptually, you don't need to go into an in-depth description of the methods)\n",
    "* What were the hyper-parameters/settings of the method?\n",
    "* Is there any lesson you learned during the challenge\n",
    "\n",
    "### Evaluation and Discussion\n",
    "* Describe the evaluation that you conducted designing the submissions.\n",
    "* Which things worked and which things didn't?\n",
    "* Is there anything interesting insight that you can conclude from the challenge? \n"
   ]
  },
  {
   "cell_type": "markdown",
   "id": "0504195f",
   "metadata": {},
   "source": [
    "## References\n",
    "\n",
    "Reference the papers used for this work!"
   ]
  }
 ],
 "metadata": {
  "kernelspec": {
   "display_name": "Python 3 (ipykernel)",
   "language": "python",
   "name": "python3"
  },
  "language_info": {
   "codemirror_mode": {
    "name": "ipython",
    "version": 3
   },
   "file_extension": ".py",
   "mimetype": "text/x-python",
   "name": "python",
   "nbconvert_exporter": "python",
   "pygments_lexer": "ipython3",
   "version": "3.7.13"
  }
 },
 "nbformat": 4,
 "nbformat_minor": 5
}
