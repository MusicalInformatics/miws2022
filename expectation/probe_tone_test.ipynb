{
 "cells": [
  {
   "cell_type": "markdown",
   "id": "7f32b466",
   "metadata": {},
   "source": [
    "# Probe tone test\n",
    "\n",
    "How to measure musical expectation is a question for both MIR and Music Cognition. Music psychologists have come up with a few methods for measuring musical expectation:\n",
    "\n",
    "* **Method of Tone Detection**: Participants listen to tones in the presence of continuous loud noise. The listeners’ task is to indicate whether or not they heard the tone\n",
    "* **Method of Production**: Listeners are presented with a stimulus (musical phrase), and they have to “sing” a continuation\n",
    "* **Probe-Tone Method**: Listeners are presented with a stimulus and a probe-tone and are asked to tell how well does the probe tone “fit” the musical context\n",
    "\n",
    "In this notebook we are going to explore this last method with a (mini) version of the most famous probe tone experiment: Krumhansl and Kessler probe tone experiment for determining tonal hierarchies in pitch perception!"
   ]
  },
  {
   "cell_type": "markdown",
   "id": "6cd2996e",
   "metadata": {},
   "source": [
    "## Generating the Stimuli"
   ]
  },
  {
   "cell_type": "code",
   "execution_count": null,
   "id": "69f7e78f",
   "metadata": {},
   "outputs": [],
   "source": [
    "# Let's import some stuff\n",
    "import os\n",
    "# Uncomment this line if the kernel keeps crashing\n",
    "# See https://stackoverflow.com/a/53014308\n",
    "os.environ['KMP_DUPLICATE_LIB_OK']='True'\n",
    "\n",
    "import IPython.display as ipd\n",
    "import ipywidgets as widgets\n",
    "import numpy as np\n",
    "import partitura as pt\n",
    "from partitura.utils.synth import synthesize, SAMPLE_RATE\n",
    "\n",
    "import matplotlib.pyplot as plt\n",
    "\n",
    "import warnings\n",
    "warnings.filterwarnings(\"ignore\")\n",
    "\n",
    "RNG = np.random.RandomState(1984)\n",
    "\n",
    "%config InlineBackend.figure_format ='retina'"
   ]
  },
  {
   "cell_type": "markdown",
   "id": "2bc5e683",
   "metadata": {},
   "source": [
    "Let's generate the stimuli!"
   ]
  },
  {
   "cell_type": "code",
   "execution_count": null,
   "id": "f9e860ac",
   "metadata": {},
   "outputs": [],
   "source": [
    "# This is just one of the contexts used by Krumhansl and Kessler in their original study ;)\n",
    "stimulus = pt.load_score(os.path.join(\"data\", \"stimulus.musicxml\"))\n",
    "\n",
    "note_array = stimulus.note_array()\n",
    "\n",
    "# Generate the stimuli: The context + a probe tone\n",
    "probe_tone_stimuli = []\n",
    "for probe_tone in range(12):\n",
    "    stimulippt = np.zeros(len(note_array) + 1, dtype=note_array.dtype)\n",
    "\n",
    "    stimulippt[:-1] = note_array\n",
    "    stimulippt[-1]['onset_beat'] = note_array['onset_beat'].max() + 3\n",
    "    stimulippt[-1]['duration_beat'] = 2\n",
    "    stimulippt[-1]['pitch'] = 60 + probe_tone\n",
    "     \n",
    "    # Synthesize the audio using Shepard tones\n",
    "    audio_signal = synthesize(stimulippt,\n",
    "                              harmonic_dist=\"shepard\",\n",
    "                              samplerate=SAMPLE_RATE,\n",
    "                              bpm=108)\n",
    "    probe_tone_stimuli.append(audio_signal)"
   ]
  },
  {
   "cell_type": "markdown",
   "id": "feb0d491",
   "metadata": {},
   "source": [
    "## The listening experiment\n",
    "\n",
    "For the listening experiment we are going to use a slider to determine how well does the probe tone fit the musical context."
   ]
  },
  {
   "cell_type": "code",
   "execution_count": null,
   "id": "9171a85e",
   "metadata": {},
   "outputs": [],
   "source": [
    "def probe_tone_slider(idx: int) -> widgets.IntSlider:\n",
    "    \"\"\"\n",
    "    Get audio player + slider for a probe tone stimuli\n",
    "    \n",
    "    Parameters\n",
    "    ----------\n",
    "    idx : int\n",
    "        Index of the probe tone stimuli\n",
    "        \n",
    "    Returns\n",
    "    -------\n",
    "    slider : widgets.IntSlider\n",
    "        An interactive slider for annotating the rating of the\n",
    "        probe tone.\n",
    "    \"\"\"\n",
    "    \n",
    "    # Display audio player\n",
    "    ipd.display(\n",
    "        ipd.Audio(\n",
    "            data=probe_tone_stimuli[idx], \n",
    "            rate=SAMPLE_RATE, \n",
    "            normalize=False\n",
    "        )\n",
    "    )\n",
    "    slider = widgets.IntSlider(\n",
    "        value=4,\n",
    "        min=1, # The probe tone does not fit very well\n",
    "        max=7, # The probe tone fits very well\n",
    "        step=1,\n",
    "        description='rating',\n",
    "        disabled=False,\n",
    "        continuous_update=False,\n",
    "        orientation='horizontal',\n",
    "        readout=True,\n",
    "        readout_format='d'\n",
    "    )\n",
    "    ipd.display(slider)\n",
    "    return slider"
   ]
  },
  {
   "cell_type": "code",
   "execution_count": null,
   "id": "2904ee00",
   "metadata": {},
   "outputs": [],
   "source": [
    "# We randomize the stimuli!\n",
    "random_idx = np.arange(len(probe_tone_stimuli))\n",
    "\n",
    "RNG.shuffle(random_idx)\n",
    "\n",
    "sliders = dict()\n",
    "for i, idx in enumerate(random_idx):\n",
    "    print(f\"stimulus {i + 1}/12\")\n",
    "    sliders[idx] = probe_tone_slider(idx)\n",
    "    \n",
    "    "
   ]
  },
  {
   "cell_type": "markdown",
   "id": "b48ceb82",
   "metadata": {},
   "source": [
    "## Visualizing the results and comparing to Krumhansl's original results\n",
    "\n",
    "Let's visualize our results and compare them to Krumhansl and Kessler's original profiles"
   ]
  },
  {
   "cell_type": "code",
   "execution_count": null,
   "id": "21be71f1",
   "metadata": {
    "scrolled": true
   },
   "outputs": [],
   "source": [
    "# The original profiles from Krumhansl's \"Cognitive Foundations of Musical Pitch\" pp.30\n",
    "key_prof_maj_kk = np.array(\n",
    "    [6.35, 2.23, 3.48, 2.33, 4.38, 4.09, 2.52, 5.19, 2.39, 3.66, 2.29, 2.88]\n",
    ")\n",
    "\n",
    "# Our own probe tone profiles!\n",
    "probe_tone_profiles = np.array([sliders[i].value for i in range(12)])\n",
    "\n",
    "# Correlation with the original profiles\n",
    "corr = np.corrcoef(key_prof_maj_kk, probe_tone_profiles)[0, 1]\n",
    "\n",
    "# Plot the profiles\n",
    "fig, ax = plt.subplots()\n",
    "ax.plot(probe_tone_profiles,c='firebrick', label='My profile')\n",
    "ax.plot(key_prof_maj_kk, c='navy', label='Krumhansl')\n",
    "ax.set_xticks(range(12))\n",
    "ax.set_xticklabels(['C', 'C#', 'D', 'D#', 'E', 'F', 'F#', 'G', 'G#', 'A', 'A#', 'B'])\n",
    "ax.set_xlabel('Pitch classes')\n",
    "ax.set_ylabel('Rating')\n",
    "ax.set_ylim((0, 7.5))\n",
    "plt.legend()\n",
    "ax.set_title(f\"Correlation with original profiles {corr:.3f}\")\n",
    "plt.show()"
   ]
  }
 ],
 "metadata": {
  "kernelspec": {
   "display_name": "Python 3",
   "language": "python",
   "name": "python3"
  },
  "language_info": {
   "codemirror_mode": {
    "name": "ipython",
    "version": 3
   },
   "file_extension": ".py",
   "mimetype": "text/x-python",
   "name": "python",
   "nbconvert_exporter": "python",
   "pygments_lexer": "ipython3",
   "version": "3.7.10"
  }
 },
 "nbformat": 4,
 "nbformat_minor": 5
}
