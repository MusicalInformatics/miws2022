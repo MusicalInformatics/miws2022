{
 "cells": [
  {
   "cell_type": "markdown",
   "metadata": {},
   "source": [
    "# Creating Piano Rolls from MusicXML or MIDI files"
   ]
  },
  {
   "cell_type": "code",
   "execution_count": null,
   "metadata": {},
   "outputs": [],
   "source": [
    "import os\n",
    "# Uncomment this line if the kernel keeps crashing\n",
    "# See https://stackoverflow.com/a/53014308\n",
    "# os.environ['KMP_DUPLICATE_LIB_OK']='True'\n",
    "\n",
    "import partitura as pt\n",
    "import matplotlib.pyplot as plt\n",
    "\n",
    "%config InlineBackend.figure_format ='retina'"
   ]
  },
  {
   "cell_type": "code",
   "execution_count": null,
   "metadata": {},
   "outputs": [],
   "source": [
    "path_to_musicxml = os.path.join(\"..\",\"introduction\",\"example_data\",\"Chopin_op10_no3.musicxml\")\n",
    "part = pt.load_musicxml(path_to_musicxml)"
   ]
  },
  {
   "cell_type": "code",
   "execution_count": null,
   "metadata": {},
   "outputs": [],
   "source": [
    "piano_roll = pt.utils.music.compute_pianoroll(part)"
   ]
  },
  {
   "cell_type": "code",
   "execution_count": null,
   "metadata": {},
   "outputs": [],
   "source": [
    "piano_roll"
   ]
  },
  {
   "cell_type": "code",
   "execution_count": null,
   "metadata": {},
   "outputs": [],
   "source": [
    "%matplotlib inline\n",
    "plt.imshow(piano_roll.todense(), aspect = \"auto\", origin=\"lower\", cmap=\"gray\")"
   ]
  },
  {
   "cell_type": "markdown",
   "metadata": {},
   "source": [
    "## possible modifications:\n",
    "\n",
    "- pitch margins\n",
    "- time margins\n",
    "- note encodings (onset only, fixed level, exponential/linear decay...)\n",
    "- offset encodings (how do you know that two consecutive notes are two notes instead of 1 long one?)\n",
    "- time unit and its sample rate\n",
    "\n",
    "\n",
    "## Exercise: draw the piano roll of the performance MIDI file (example_file/filename.mid) to a piano roll with time unit in seconds, with 4 samples per second, where only the onsets are encoding (single pixel width per note)!\n",
    "\n",
    "hint: check https://github.com/CPJKU/partitura/blob/master/partitura/utils/music.py"
   ]
  },
  {
   "cell_type": "code",
   "execution_count": null,
   "metadata": {},
   "outputs": [],
   "source": [
    "# your code here..."
   ]
  }
 ],
 "metadata": {
  "kernelspec": {
   "display_name": "Python 3 (ipykernel)",
   "language": "python",
   "name": "python3"
  },
  "language_info": {
   "codemirror_mode": {
    "name": "ipython",
    "version": 3
   },
   "file_extension": ".py",
   "mimetype": "text/x-python",
   "name": "python",
   "nbconvert_exporter": "python",
   "pygments_lexer": "ipython3",
   "version": "3.7.13"
  }
 },
 "nbformat": 4,
 "nbformat_minor": 4
}
