{
 "cells": [
  {
   "cell_type": "markdown",
   "id": "c04b411e",
   "metadata": {},
   "source": [
    "# Symbolic Music Alignment\n",
    "\n",
    "This is a template for your report. The report should be written like a blog post and describe what you did for the alignment challenge."
   ]
  },
  {
   "cell_type": "markdown",
   "id": "64631779",
   "metadata": {},
   "source": [
    "## Music Alignment\n",
    "\n",
    "* What is music alignment?"
   ]
  },
  {
   "cell_type": "markdown",
   "id": "bb6fe7b7",
   "metadata": {},
   "source": [
    "## Music Representation\n",
    "\n",
    "* What relevant information might be present in symbolic representations?"
   ]
  },
  {
   "cell_type": "code",
   "execution_count": null,
   "id": "8c70f756",
   "metadata": {},
   "outputs": [],
   "source": [
    "# Import things that you need\n",
    "import numpy as np\n",
    "import partitura as pt"
   ]
  },
  {
   "cell_type": "markdown",
   "id": "36cc0f43",
   "metadata": {},
   "source": [
    "## Feature Representations\n",
    "\n",
    "* Which features did you use?\n",
    "* Which elements of the music do they capture?\n",
    "* Was there any pre-processing of the features?\n",
    "* Anything that you think relevant.\n",
    "* Make sure to include plots and visualizations!\n",
    "\n"
   ]
  },
  {
   "cell_type": "code",
   "execution_count": null,
   "id": "63cf2ef0",
   "metadata": {},
   "outputs": [],
   "source": [
    "# Include some code to visualize the representations"
   ]
  },
  {
   "cell_type": "markdown",
   "id": "ab8d8d3c",
   "metadata": {},
   "source": [
    "## Alignment Methods\n",
    "\n",
    "* Which Method(s) did you use? (e.g., Dynamic Time Warping)\n",
    "* What is this method supposed to do (conceptually, you don't need to go into an in-depth description of the methods)\n",
    "* What were the hyper-parameters/settings of the method? (e.g., choice of local distance measure for DTW)\n",
    "* Is there any lesson you learned during the challenge\n",
    "                                         "
   ]
  },
  {
   "cell_type": "markdown",
   "id": "c9b2ac9e",
   "metadata": {},
   "source": [
    "## Evaluation\n",
    "\n",
    "* Describe the evaluation that you conducted designing the submissions.\n",
    "* Which things worked and which things didn't?"
   ]
  },
  {
   "cell_type": "markdown",
   "id": "e74fea82",
   "metadata": {},
   "source": [
    "## Conclusions\n",
    "\n",
    "* Is there anything interesting insight that you can conclude from the challenge? "
   ]
  },
  {
   "cell_type": "markdown",
   "id": "8650c3a0",
   "metadata": {},
   "source": [
    "## References\n",
    "\n",
    "* Reference the papers used for this work!"
   ]
  }
 ],
 "metadata": {
  "kernelspec": {
   "display_name": "Python 3 (ipykernel)",
   "language": "python",
   "name": "python3"
  },
  "language_info": {
   "codemirror_mode": {
    "name": "ipython",
    "version": 3
   },
   "file_extension": ".py",
   "mimetype": "text/x-python",
   "name": "python",
   "nbconvert_exporter": "python",
   "pygments_lexer": "ipython3",
   "version": "3.7.13"
  }
 },
 "nbformat": 4,
 "nbformat_minor": 5
}
