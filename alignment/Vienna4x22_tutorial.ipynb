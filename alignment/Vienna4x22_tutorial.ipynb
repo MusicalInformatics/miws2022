{
 "cells": [
  {
   "cell_type": "markdown",
   "metadata": {},
   "source": [
    "# Vienna 4x22 note aligned ground truth data\n",
    "\n",
    "The Vienna 4x22 is a small dataset of note aligned scores and performances. If you're interested, you can find the original data here (MIDI performances and audio): https://repo.mdw.ac.at/projects/IWK/the_vienna_4x22_piano_corpus/data/index.html\n",
    "\n",
    "On moodle you find a zipped version of .match files of this data. Recall that .match files contain both a score (mostly) and performance as well as a notewise alignment. You can load them like so:"
   ]
  },
  {
   "cell_type": "code",
   "execution_count": null,
   "metadata": {},
   "outputs": [],
   "source": [
    "import os\n",
    "# Uncomment this line if the kernel keeps crashing\n",
    "# See https://stackoverflow.com/a/53014308\n",
    "# os.environ['KMP_DUPLICATE_LIB_OK']='True'\n",
    "import partitura as pt\n"
   ]
  },
  {
   "cell_type": "code",
   "execution_count": null,
   "metadata": {},
   "outputs": [],
   "source": [
    "path_to_dummy_match = os.path.join(\"..\",\"introduction\",\"example_data\",\"Chopin_op10_no3_p01.match\")\n",
    "performedpart, alignment_groundtruth, part = pt.load_match(path_to_dummy_match, create_part=True)\n",
    "alignment_groundtruth"
   ]
  },
  {
   "cell_type": "markdown",
   "metadata": {},
   "source": [
    "1. Load the test/train data as above\n",
    "2. use performedpart (e.g. performaedpart.note_array) and pert (e.g. via part.note_array) to generate a notewise alignment\n",
    "3. store the predicted alignment in the same format as the alignment ground truth (a list of dictionaries with the keys \"label\", \"score_id\", and \"performance_id\" where the label can be \"match\", \"insertion\" or \"deletion and the IDs are the corresponding note IDs from the performedpart and part)\n",
    "4. compare your solution to the ground truth using the helper function we wrote. Ideally your solutions reaches precision 1.0, recall, 1.0 and f score 1.0"
   ]
  },
  {
   "cell_type": "code",
   "execution_count": null,
   "metadata": {},
   "outputs": [],
   "source": [
    "from challenge_utils import compare_alignments"
   ]
  },
  {
   "cell_type": "code",
   "execution_count": null,
   "metadata": {},
   "outputs": [],
   "source": [
    "compare_alignments(alignment_groundtruth, alignment_groundtruth, \"match\")"
   ]
  }
 ],
 "metadata": {
  "kernelspec": {
   "display_name": "Python 3 (ipykernel)",
   "language": "python",
   "name": "python3"
  },
  "language_info": {
   "codemirror_mode": {
    "name": "ipython",
    "version": 3
   },
   "file_extension": ".py",
   "mimetype": "text/x-python",
   "name": "python",
   "nbconvert_exporter": "python",
   "pygments_lexer": "ipython3",
   "version": "3.7.13"
  }
 },
 "nbformat": 4,
 "nbformat_minor": 4
}
