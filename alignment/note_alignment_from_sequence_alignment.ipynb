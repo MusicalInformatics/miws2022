{
 "cells": [
  {
   "cell_type": "markdown",
   "metadata": {},
   "source": [
    "# Creating note alignments from sequential alignment information\n",
    "\n",
    "Dynamic Time Warping and related sequence alignment algorithms return a path between two sequences or time series. Note alignment of two polyphonic parts is categorically different from a time series alignment. To get to a note alignment, we need to figure out what notes are played at a specific time in the piano roll. Sometimes this information might be imprecise so we need to relax the search for notes at some piano roll time to find all relevant notes."
   ]
  },
  {
   "cell_type": "code",
   "execution_count": null,
   "metadata": {},
   "outputs": [],
   "source": [
    "import os\n",
    "# Uncomment this line if the kernel keeps crashing\n",
    "# See https://stackoverflow.com/a/53014308\n",
    "# os.environ['KMP_DUPLICATE_LIB_OK']='True'\n",
    "\n",
    "from typing import List\n",
    "\n",
    "import partitura as pt\n",
    "\n",
    "import matplotlib.pyplot as plt\n",
    "import numpy as np\n",
    "%config InlineBackend.figure_format ='retina'"
   ]
  },
  {
   "cell_type": "code",
   "execution_count": null,
   "metadata": {},
   "outputs": [],
   "source": [
    "path_to_musicxml = os.path.join(\"..\",\"introduction\",\"example_data\",\"Chopin_op10_no3.musicxml\")\n",
    "part = pt.load_musicxml(path_to_musicxml)"
   ]
  },
  {
   "cell_type": "code",
   "execution_count": null,
   "metadata": {},
   "outputs": [],
   "source": [
    "piano_roll, idx = pt.utils.music.compute_pianoroll(part, return_idxs = True)"
   ]
  },
  {
   "cell_type": "code",
   "execution_count": null,
   "metadata": {},
   "outputs": [],
   "source": [
    "# pitch, onset, offset\n",
    "idx"
   ]
  },
  {
   "cell_type": "code",
   "execution_count": null,
   "metadata": {},
   "outputs": [],
   "source": [
    "# idx correspond to notes in note_array\n",
    "part.note_array"
   ]
  },
  {
   "cell_type": "code",
   "execution_count": null,
   "metadata": {},
   "outputs": [],
   "source": [
    "# let's import a MIDI file for testing\n",
    "path_to_midi = os.path.join(\"..\",\"introduction\",\"example_data\",\"Chopin_op10_no3_p01.mid\")\n",
    "ppart = pt.load_performance_midi(path_to_midi)\n",
    "ppiano_roll, pidx = pt.utils.music.compute_pianoroll(ppart, return_idxs = True)"
   ]
  },
  {
   "cell_type": "code",
   "execution_count": null,
   "metadata": {},
   "outputs": [],
   "source": [
    "%matplotlib inline\n",
    "plt.imshow(ppiano_roll.todense(), aspect = \"auto\", origin=\"lower\")"
   ]
  },
  {
   "cell_type": "code",
   "execution_count": null,
   "metadata": {},
   "outputs": [],
   "source": [
    "plt.imshow(piano_roll.todense(), aspect = \"auto\", origin=\"lower\")"
   ]
  },
  {
   "cell_type": "code",
   "execution_count": null,
   "metadata": {},
   "outputs": [],
   "source": [
    "# invent a linear alignment for testing\n",
    "\n",
    "alignment_times_xml = np.arange(piano_roll.todense().shape[1])\n",
    "alignment_times_mid = np.floor(np.arange(piano_roll.todense().shape[1])*ppiano_roll.todense().shape[1]/piano_roll.todense().shape[1])\n",
    "\n",
    "linear_alignment = np.column_stack([alignment_times_xml, alignment_times_mid]).astype(int)\n",
    "plt.plot(alignment_times_xml,alignment_times_mid)"
   ]
  },
  {
   "cell_type": "code",
   "execution_count": null,
   "metadata": {},
   "outputs": [],
   "source": [
    "linear_alignment"
   ]
  },
  {
   "cell_type": "code",
   "execution_count": null,
   "metadata": {},
   "outputs": [],
   "source": [
    "def greedy_note_alignment(\n",
    "    warping_path: np.ndarray,\n",
    "    idx1: np.ndarray,\n",
    "    note_array1: np.ndarray,\n",
    "    idx2: np.ndarray,\n",
    "    note_array2: np.ndarray,\n",
    ") -> List[dict]:\n",
    "    \"\"\"\n",
    "    Greedily find and store possible note alignments\n",
    "\n",
    "    Parameters\n",
    "    ----------\n",
    "    warping_path : numpy ndarray\n",
    "        alignment sequence idx in stacked columns\n",
    "    idx1: numpy ndarray\n",
    "        pitch, start, and end coordinates of all notes in note_array1\n",
    "    note_array1: numpy structured array\n",
    "        note_array of sequence 1 (the score)\n",
    "    idx2: numpy ndarray\n",
    "        pitch, start, and end coordinates of all notes in note_array2\n",
    "    note_array2: numpy structured array\n",
    "        note_array of sequence 2 (the performance)\n",
    "\n",
    "    Returns\n",
    "    ----------\n",
    "    note_alignment : list\n",
    "        list of note alignment dictionaries\n",
    "\n",
    "    \"\"\"\n",
    "    note_alignment = []\n",
    "    used_notes1 = list()\n",
    "    used_notes2 = list()\n",
    "\n",
    "    # loop over all notes in sequence 1\n",
    "    for note1, coord1 in zip(note_array1, idx1):\n",
    "        note1_id = note1[\"id\"]\n",
    "        pitch1, s1, e1 = coord1\n",
    "\n",
    "        # find the coordinates of the note in the warping_path\n",
    "\n",
    "        idx_in_warping_path = np.all(\n",
    "            [warping_path[:, 0] >= s1, warping_path[:, 0] <= e1], axis=0\n",
    "        )\n",
    "        # print(idx_in_warping_path, idx_in_warping_path.shape)\n",
    "        range_in_sequence2 = warping_path[idx_in_warping_path, 1]\n",
    "        max2 = np.max(range_in_sequence2)\n",
    "        min2 = np.min(range_in_sequence2)\n",
    "\n",
    "        # loop over all notes in sequence 2 and pick the notes with same pitch\n",
    "        # and position\n",
    "        for note2, coord2 in zip(note_array2, idx2):\n",
    "            note2_id = note2[\"id\"]\n",
    "            pitch2, s2, e2 = coord2\n",
    "            if note2_id not in used_notes2:\n",
    "                if pitch2 == pitch1 and s2 <= max2 and e2 >= min2:\n",
    "\n",
    "                    note_alignment.append(\n",
    "                        {\n",
    "                            \"label\": \"match\",\n",
    "                            \"score_id\": note1_id,\n",
    "                            \"performance_id\": str(note2_id),\n",
    "                        }\n",
    "                    )\n",
    "                    used_notes2.append(str(note2_id))\n",
    "                    used_notes1.append(note1_id)\n",
    "\n",
    "        # check if a note has been found for the sequence 1 note,\n",
    "        # otherwise add it as deletion\n",
    "        if note1_id not in used_notes1:\n",
    "            note_alignment.append({\"label\": \"deletion\", \"score_id\": note1_id})\n",
    "            used_notes1.append(note1_id)\n",
    "\n",
    "    # check again for all notes in sequence 2, if not used,\n",
    "    # add them as insertions\n",
    "    for note2 in note_array2:\n",
    "        note2_id = note2[\"id\"]\n",
    "        if note2_id not in used_notes2:\n",
    "            note_alignment.append(\n",
    "                {\n",
    "                    \"label\": \"insertion\",\n",
    "                    \"performance_id\": str(note2_id),\n",
    "                }\n",
    "            )\n",
    "            used_notes2.append(str(note2_id))\n",
    "\n",
    "    return note_alignment\n"
   ]
  },
  {
   "cell_type": "code",
   "execution_count": null,
   "metadata": {},
   "outputs": [],
   "source": [
    "note_alignment  = greedy_note_alignment(linear_alignment, idx, part.note_array(), pidx, ppart.note_array())"
   ]
  },
  {
   "cell_type": "code",
   "execution_count": null,
   "metadata": {
    "scrolled": false
   },
   "outputs": [],
   "source": [
    "note_alignment"
   ]
  },
  {
   "cell_type": "markdown",
   "metadata": {},
   "source": [
    "To inspect an alignment, we can use [**Parangonada**](https://sildater.github.io/parangonada/), a tool to compare alignments developed at our institute!"
   ]
  },
  {
   "cell_type": "code",
   "execution_count": null,
   "metadata": {},
   "outputs": [],
   "source": [
    "# Export files to Parangonada\n",
    "outdir = \"parangonada_files\"\n",
    "if not os.path.exists(outdir):\n",
    "    os.mkdir(outdir)\n",
    "pt.save_parangonada_csv(\n",
    "    alignment=note_alignment,\n",
    "    performance_data=ppart,\n",
    "    score_data=part,\n",
    "    outdir=\"parangonada_files\",\n",
    ")\n"
   ]
  }
 ],
 "metadata": {
  "kernelspec": {
   "display_name": "Python 3 (ipykernel)",
   "language": "python",
   "name": "python3"
  },
  "language_info": {
   "codemirror_mode": {
    "name": "ipython",
    "version": 3
   },
   "file_extension": ".py",
   "mimetype": "text/x-python",
   "name": "python",
   "nbconvert_exporter": "python",
   "pygments_lexer": "ipython3",
   "version": "3.7.13"
  }
 },
 "nbformat": 4,
 "nbformat_minor": 4
}
